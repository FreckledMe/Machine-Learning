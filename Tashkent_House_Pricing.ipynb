{
 "cells": [
  {
   "cell_type": "code",
   "execution_count": 86,
   "id": "f9cdbc42",
   "metadata": {},
   "outputs": [],
   "source": [
    "from sklearn.preprocessing import OneHotEncoder,OrdinalEncoder,LabelEncoder\n",
    "from sklearn.model_selection import train_test_split\n",
    "import pandas as pd\n",
    "import numpy as np\n",
    "import matplotlib.pyplot as plt\n",
    "import seaborn as sns\n",
    "from sklearn.preprocessing import MinMaxScaler\n",
    "from sklearn.preprocessing import StandardScaler\n",
    "from sklearn.neighbors import KNeighborsClassifier\n",
    "from sklearn.linear_model import LinearRegression\n",
    "from sklearn.metrics import jaccard_score,confusion_matrix\n",
    "from sklearn.preprocessing import MinMaxScaler,StandardScaler\n",
    "from sklearn.model_selection import cross_val_score"
   ]
  },
  {
   "cell_type": "markdown",
   "id": "225e08db",
   "metadata": {},
   "source": [
    "# Preparation"
   ]
  },
  {
   "cell_type": "code",
   "execution_count": 58,
   "id": "98a208e5",
   "metadata": {},
   "outputs": [
    {
     "data": {
      "text/html": [
       "<div>\n",
       "<style scoped>\n",
       "    .dataframe tbody tr th:only-of-type {\n",
       "        vertical-align: middle;\n",
       "    }\n",
       "\n",
       "    .dataframe tbody tr th {\n",
       "        vertical-align: top;\n",
       "    }\n",
       "\n",
       "    .dataframe thead th {\n",
       "        text-align: right;\n",
       "    }\n",
       "</style>\n",
       "<table border=\"1\" class=\"dataframe\">\n",
       "  <thead>\n",
       "    <tr style=\"text-align: right;\">\n",
       "      <th></th>\n",
       "      <th>location</th>\n",
       "      <th>district</th>\n",
       "      <th>rooms</th>\n",
       "      <th>size</th>\n",
       "      <th>level</th>\n",
       "      <th>max_levels</th>\n",
       "      <th>price</th>\n",
       "    </tr>\n",
       "  </thead>\n",
       "  <tbody>\n",
       "    <tr>\n",
       "      <th>0</th>\n",
       "      <td>город Ташкент, Юнусабадский район, Юнусабад 8-...</td>\n",
       "      <td>Юнусабадский</td>\n",
       "      <td>3</td>\n",
       "      <td>57</td>\n",
       "      <td>4</td>\n",
       "      <td>4</td>\n",
       "      <td>52000</td>\n",
       "    </tr>\n",
       "    <tr>\n",
       "      <th>1</th>\n",
       "      <td>город Ташкент, Яккасарайский район, 1-й тупик ...</td>\n",
       "      <td>Яккасарайский</td>\n",
       "      <td>2</td>\n",
       "      <td>52</td>\n",
       "      <td>4</td>\n",
       "      <td>5</td>\n",
       "      <td>56000</td>\n",
       "    </tr>\n",
       "    <tr>\n",
       "      <th>2</th>\n",
       "      <td>город Ташкент, Чиланзарский район, Чиланзар 2-...</td>\n",
       "      <td>Чиланзарский</td>\n",
       "      <td>2</td>\n",
       "      <td>42</td>\n",
       "      <td>4</td>\n",
       "      <td>4</td>\n",
       "      <td>37000</td>\n",
       "    </tr>\n",
       "    <tr>\n",
       "      <th>3</th>\n",
       "      <td>город Ташкент, Чиланзарский район, Чиланзар 9-...</td>\n",
       "      <td>Чиланзарский</td>\n",
       "      <td>3</td>\n",
       "      <td>65</td>\n",
       "      <td>1</td>\n",
       "      <td>4</td>\n",
       "      <td>49500</td>\n",
       "    </tr>\n",
       "    <tr>\n",
       "      <th>4</th>\n",
       "      <td>город Ташкент, Чиланзарский район, площадь Актепа</td>\n",
       "      <td>Чиланзарский</td>\n",
       "      <td>3</td>\n",
       "      <td>70</td>\n",
       "      <td>3</td>\n",
       "      <td>5</td>\n",
       "      <td>55000</td>\n",
       "    </tr>\n",
       "    <tr>\n",
       "      <th>...</th>\n",
       "      <td>...</td>\n",
       "      <td>...</td>\n",
       "      <td>...</td>\n",
       "      <td>...</td>\n",
       "      <td>...</td>\n",
       "      <td>...</td>\n",
       "      <td>...</td>\n",
       "    </tr>\n",
       "    <tr>\n",
       "      <th>7560</th>\n",
       "      <td>город Ташкент, Яшнободский район, Городок Авиа...</td>\n",
       "      <td>Яшнободский</td>\n",
       "      <td>1</td>\n",
       "      <td>38</td>\n",
       "      <td>5</td>\n",
       "      <td>5</td>\n",
       "      <td>24500</td>\n",
       "    </tr>\n",
       "    <tr>\n",
       "      <th>7561</th>\n",
       "      <td>город Ташкент, Яшнободский район, 1-й проезд А...</td>\n",
       "      <td>Яшнободский</td>\n",
       "      <td>2</td>\n",
       "      <td>49</td>\n",
       "      <td>1</td>\n",
       "      <td>4</td>\n",
       "      <td>32000</td>\n",
       "    </tr>\n",
       "    <tr>\n",
       "      <th>7562</th>\n",
       "      <td>город Ташкент, Шайхантахурский район, Зульфиях...</td>\n",
       "      <td>Шайхантахурский</td>\n",
       "      <td>2</td>\n",
       "      <td>64</td>\n",
       "      <td>3</td>\n",
       "      <td>9</td>\n",
       "      <td>40000</td>\n",
       "    </tr>\n",
       "    <tr>\n",
       "      <th>7563</th>\n",
       "      <td>город Ташкент, Мирзо-Улугбекский район, Буюк И...</td>\n",
       "      <td>Мирзо-Улугбекский</td>\n",
       "      <td>1</td>\n",
       "      <td>18</td>\n",
       "      <td>1</td>\n",
       "      <td>4</td>\n",
       "      <td>11000</td>\n",
       "    </tr>\n",
       "    <tr>\n",
       "      <th>7564</th>\n",
       "      <td>город Ташкент, Чиланзарский район, Чиланзар 6-...</td>\n",
       "      <td>Чиланзарский</td>\n",
       "      <td>1</td>\n",
       "      <td>30</td>\n",
       "      <td>2</td>\n",
       "      <td>4</td>\n",
       "      <td>22914</td>\n",
       "    </tr>\n",
       "  </tbody>\n",
       "</table>\n",
       "<p>7565 rows × 7 columns</p>\n",
       "</div>"
      ],
      "text/plain": [
       "                                               location           district  \\\n",
       "0     город Ташкент, Юнусабадский район, Юнусабад 8-...       Юнусабадский   \n",
       "1     город Ташкент, Яккасарайский район, 1-й тупик ...      Яккасарайский   \n",
       "2     город Ташкент, Чиланзарский район, Чиланзар 2-...       Чиланзарский   \n",
       "3     город Ташкент, Чиланзарский район, Чиланзар 9-...       Чиланзарский   \n",
       "4     город Ташкент, Чиланзарский район, площадь Актепа       Чиланзарский   \n",
       "...                                                 ...                ...   \n",
       "7560  город Ташкент, Яшнободский район, Городок Авиа...        Яшнободский   \n",
       "7561  город Ташкент, Яшнободский район, 1-й проезд А...        Яшнободский   \n",
       "7562  город Ташкент, Шайхантахурский район, Зульфиях...    Шайхантахурский   \n",
       "7563  город Ташкент, Мирзо-Улугбекский район, Буюк И...  Мирзо-Улугбекский   \n",
       "7564  город Ташкент, Чиланзарский район, Чиланзар 6-...       Чиланзарский   \n",
       "\n",
       "      rooms size  level  max_levels  price  \n",
       "0         3   57      4           4  52000  \n",
       "1         2   52      4           5  56000  \n",
       "2         2   42      4           4  37000  \n",
       "3         3   65      1           4  49500  \n",
       "4         3   70      3           5  55000  \n",
       "...     ...  ...    ...         ...    ...  \n",
       "7560      1   38      5           5  24500  \n",
       "7561      2   49      1           4  32000  \n",
       "7562      2   64      3           9  40000  \n",
       "7563      1   18      1           4  11000  \n",
       "7564      1   30      2           4  22914  \n",
       "\n",
       "[7565 rows x 7 columns]"
      ]
     },
     "execution_count": 58,
     "metadata": {},
     "output_type": "execute_result"
    }
   ],
   "source": [
    "data = pd.read_csv('Tashkent_uy_narxlari.csv')\n",
    "data"
   ]
  },
  {
   "cell_type": "code",
   "execution_count": 59,
   "id": "a414d152",
   "metadata": {},
   "outputs": [],
   "source": [
    "data.price = pd.to_numeric(data.price,errors = 'coerce')\n",
    "data.rooms = pd.to_numeric(data.rooms,errors = 'coerce')\n",
    "data['size'] = pd.to_numeric(data['size'],errors = 'coerce')\n",
    "data.level = pd.to_numeric(data.level,errors = 'coerce')\n",
    "data.max_levels = pd.to_numeric(data.max_levels,errors = 'coerce')"
   ]
  },
  {
   "cell_type": "code",
   "execution_count": 60,
   "id": "d2bd9ebf",
   "metadata": {},
   "outputs": [],
   "source": [
    "data = data.drop_duplicates()"
   ]
  },
  {
   "cell_type": "code",
   "execution_count": 61,
   "id": "31b944c7",
   "metadata": {},
   "outputs": [],
   "source": [
    "data = data.drop('location',axis=1)"
   ]
  },
  {
   "cell_type": "code",
   "execution_count": 62,
   "id": "38624df5",
   "metadata": {},
   "outputs": [],
   "source": [
    "data = data[(data.price >= 10000) & (data.price < 400000) ]\n",
    "data = data[(data['size'] > 15) & (data['size'] < 400) ]"
   ]
  },
  {
   "cell_type": "code",
   "execution_count": 63,
   "id": "f13aef8f",
   "metadata": {},
   "outputs": [
    {
     "data": {
      "text/html": [
       "<div>\n",
       "<style scoped>\n",
       "    .dataframe tbody tr th:only-of-type {\n",
       "        vertical-align: middle;\n",
       "    }\n",
       "\n",
       "    .dataframe tbody tr th {\n",
       "        vertical-align: top;\n",
       "    }\n",
       "\n",
       "    .dataframe thead th {\n",
       "        text-align: right;\n",
       "    }\n",
       "</style>\n",
       "<table border=\"1\" class=\"dataframe\">\n",
       "  <thead>\n",
       "    <tr style=\"text-align: right;\">\n",
       "      <th></th>\n",
       "      <th>district</th>\n",
       "      <th>rooms</th>\n",
       "      <th>size</th>\n",
       "      <th>level</th>\n",
       "      <th>max_levels</th>\n",
       "      <th>price</th>\n",
       "    </tr>\n",
       "  </thead>\n",
       "  <tbody>\n",
       "    <tr>\n",
       "      <th>0</th>\n",
       "      <td>Юнусабадский</td>\n",
       "      <td>3</td>\n",
       "      <td>57.0</td>\n",
       "      <td>4</td>\n",
       "      <td>4</td>\n",
       "      <td>52000.0</td>\n",
       "    </tr>\n",
       "    <tr>\n",
       "      <th>1</th>\n",
       "      <td>Яккасарайский</td>\n",
       "      <td>2</td>\n",
       "      <td>52.0</td>\n",
       "      <td>4</td>\n",
       "      <td>5</td>\n",
       "      <td>56000.0</td>\n",
       "    </tr>\n",
       "    <tr>\n",
       "      <th>2</th>\n",
       "      <td>Чиланзарский</td>\n",
       "      <td>2</td>\n",
       "      <td>42.0</td>\n",
       "      <td>4</td>\n",
       "      <td>4</td>\n",
       "      <td>37000.0</td>\n",
       "    </tr>\n",
       "    <tr>\n",
       "      <th>3</th>\n",
       "      <td>Чиланзарский</td>\n",
       "      <td>3</td>\n",
       "      <td>65.0</td>\n",
       "      <td>1</td>\n",
       "      <td>4</td>\n",
       "      <td>49500.0</td>\n",
       "    </tr>\n",
       "    <tr>\n",
       "      <th>4</th>\n",
       "      <td>Чиланзарский</td>\n",
       "      <td>3</td>\n",
       "      <td>70.0</td>\n",
       "      <td>3</td>\n",
       "      <td>5</td>\n",
       "      <td>55000.0</td>\n",
       "    </tr>\n",
       "    <tr>\n",
       "      <th>...</th>\n",
       "      <td>...</td>\n",
       "      <td>...</td>\n",
       "      <td>...</td>\n",
       "      <td>...</td>\n",
       "      <td>...</td>\n",
       "      <td>...</td>\n",
       "    </tr>\n",
       "    <tr>\n",
       "      <th>7560</th>\n",
       "      <td>Яшнободский</td>\n",
       "      <td>1</td>\n",
       "      <td>38.0</td>\n",
       "      <td>5</td>\n",
       "      <td>5</td>\n",
       "      <td>24500.0</td>\n",
       "    </tr>\n",
       "    <tr>\n",
       "      <th>7561</th>\n",
       "      <td>Яшнободский</td>\n",
       "      <td>2</td>\n",
       "      <td>49.0</td>\n",
       "      <td>1</td>\n",
       "      <td>4</td>\n",
       "      <td>32000.0</td>\n",
       "    </tr>\n",
       "    <tr>\n",
       "      <th>7562</th>\n",
       "      <td>Шайхантахурский</td>\n",
       "      <td>2</td>\n",
       "      <td>64.0</td>\n",
       "      <td>3</td>\n",
       "      <td>9</td>\n",
       "      <td>40000.0</td>\n",
       "    </tr>\n",
       "    <tr>\n",
       "      <th>7563</th>\n",
       "      <td>Мирзо-Улугбекский</td>\n",
       "      <td>1</td>\n",
       "      <td>18.0</td>\n",
       "      <td>1</td>\n",
       "      <td>4</td>\n",
       "      <td>11000.0</td>\n",
       "    </tr>\n",
       "    <tr>\n",
       "      <th>7564</th>\n",
       "      <td>Чиланзарский</td>\n",
       "      <td>1</td>\n",
       "      <td>30.0</td>\n",
       "      <td>2</td>\n",
       "      <td>4</td>\n",
       "      <td>22914.0</td>\n",
       "    </tr>\n",
       "  </tbody>\n",
       "</table>\n",
       "<p>6714 rows × 6 columns</p>\n",
       "</div>"
      ],
      "text/plain": [
       "               district  rooms  size  level  max_levels    price\n",
       "0          Юнусабадский      3  57.0      4           4  52000.0\n",
       "1         Яккасарайский      2  52.0      4           5  56000.0\n",
       "2          Чиланзарский      2  42.0      4           4  37000.0\n",
       "3          Чиланзарский      3  65.0      1           4  49500.0\n",
       "4          Чиланзарский      3  70.0      3           5  55000.0\n",
       "...                 ...    ...   ...    ...         ...      ...\n",
       "7560        Яшнободский      1  38.0      5           5  24500.0\n",
       "7561        Яшнободский      2  49.0      1           4  32000.0\n",
       "7562    Шайхантахурский      2  64.0      3           9  40000.0\n",
       "7563  Мирзо-Улугбекский      1  18.0      1           4  11000.0\n",
       "7564       Чиланзарский      1  30.0      2           4  22914.0\n",
       "\n",
       "[6714 rows x 6 columns]"
      ]
     },
     "execution_count": 63,
     "metadata": {},
     "output_type": "execute_result"
    }
   ],
   "source": [
    "data"
   ]
  },
  {
   "cell_type": "code",
   "execution_count": 64,
   "id": "ad0fb98b",
   "metadata": {},
   "outputs": [
    {
     "data": {
      "text/plain": [
       "district      0\n",
       "rooms         0\n",
       "size          0\n",
       "level         0\n",
       "max_levels    0\n",
       "price         0\n",
       "dtype: int64"
      ]
     },
     "execution_count": 64,
     "metadata": {},
     "output_type": "execute_result"
    }
   ],
   "source": [
    "data.isnull().sum()"
   ]
  },
  {
   "cell_type": "markdown",
   "id": "afd0f46f",
   "metadata": {},
   "source": [
    "# Visualization"
   ]
  },
  {
   "cell_type": "markdown",
   "id": "6554ad56",
   "metadata": {},
   "source": [
    "1.Bektemir\n",
    "2.Chilanzar\n",
    "3.Yashnobod\n",
    "4.Mirobod\n",
    "5.Mirzo Ulugbek\n",
    "6.Sergeli\n",
    "7.Shaykhontohur\n",
    "8.Olmazar\n",
    "9.Uchtepa\n",
    "10.Yakkasaray\n",
    "11.Yunusabad\n",
    "<img src=\"Tashkent_City_districts.png\" weight='40' height='20'/>"
   ]
  },
  {
   "cell_type": "code",
   "execution_count": 132,
   "id": "da1c2dda",
   "metadata": {},
   "outputs": [
    {
     "data": {
      "text/plain": [
       "pandas.core.series.Series"
      ]
     },
     "execution_count": 132,
     "metadata": {},
     "output_type": "execute_result"
    }
   ],
   "source": [
    "type(for_barplot)"
   ]
  },
  {
   "cell_type": "code",
   "execution_count": 65,
   "id": "3371b181",
   "metadata": {},
   "outputs": [
    {
     "data": {
      "image/png": "[encoded data removed]",
      "text/plain": [
       "<Figure size 864x504 with 1 Axes>"
      ]
     },
     "metadata": {
      "needs_background": "light"
     },
     "output_type": "display_data"
    }
   ],
   "source": [
    "plt.figure(figsize=(12,7))\n",
    "for_barplot = data.groupby('district')['price'].mean().sort_values()\n",
    "sns.barplot(x=for_barplot.index,y=for_barplot.values)\n",
    "plt.grid(linestyle='--')\n",
    "plt.xticks(rotation=90)\n",
    "plt.show()"
   ]
  },
  {
   "cell_type": "code",
   "execution_count": 50,
   "id": "2d71339a",
   "metadata": {},
   "outputs": [
    {
     "data": {
      "image/png": "[encoded data removed]",
      "text/plain": [
       "<Figure size 864x432 with 2 Axes>"
      ]
     },
     "metadata": {
      "needs_background": "light"
     },
     "output_type": "display_data"
    }
   ],
   "source": [
    "plt.figure(figsize=(12,6))\n",
    "sns.heatmap(data.corr(),annot=True,square=True,linewidths=1)\n",
    "plt.show()"
   ]
  },
  {
   "cell_type": "code",
   "execution_count": 66,
   "id": "8ec10378",
   "metadata": {},
   "outputs": [
    {
     "data": {
      "text/plain": [
       "rooms         0.562024\n",
       "size          0.797672\n",
       "level         0.068202\n",
       "max_levels    0.240486\n",
       "price         1.000000\n",
       "dtype: float64"
      ]
     },
     "execution_count": 66,
     "metadata": {},
     "output_type": "execute_result"
    }
   ],
   "source": [
    "data.corrwith(data['price'])"
   ]
  },
  {
   "cell_type": "markdown",
   "id": "c4ae9516",
   "metadata": {},
   "source": [
    "# Label tayyorlash"
   ]
  },
  {
   "cell_type": "code",
   "execution_count": 52,
   "id": "3c7485de",
   "metadata": {},
   "outputs": [
    {
     "data": {
      "text/html": [
       "<div>\n",
       "<style scoped>\n",
       "    .dataframe tbody tr th:only-of-type {\n",
       "        vertical-align: middle;\n",
       "    }\n",
       "\n",
       "    .dataframe tbody tr th {\n",
       "        vertical-align: top;\n",
       "    }\n",
       "\n",
       "    .dataframe thead th {\n",
       "        text-align: right;\n",
       "    }\n",
       "</style>\n",
       "<table border=\"1\" class=\"dataframe\">\n",
       "  <thead>\n",
       "    <tr style=\"text-align: right;\">\n",
       "      <th></th>\n",
       "      <th>rooms</th>\n",
       "      <th>size</th>\n",
       "      <th>level</th>\n",
       "      <th>max_levels</th>\n",
       "      <th>price</th>\n",
       "    </tr>\n",
       "  </thead>\n",
       "  <tbody>\n",
       "    <tr>\n",
       "      <th>count</th>\n",
       "      <td>6714.000000</td>\n",
       "      <td>6714.000000</td>\n",
       "      <td>6714.000000</td>\n",
       "      <td>6714.000000</td>\n",
       "      <td>6714.000000</td>\n",
       "    </tr>\n",
       "    <tr>\n",
       "      <th>mean</th>\n",
       "      <td>2.616324</td>\n",
       "      <td>72.926129</td>\n",
       "      <td>3.710903</td>\n",
       "      <td>6.048853</td>\n",
       "      <td>58597.382633</td>\n",
       "    </tr>\n",
       "    <tr>\n",
       "      <th>std</th>\n",
       "      <td>1.058237</td>\n",
       "      <td>35.119217</td>\n",
       "      <td>2.256852</td>\n",
       "      <td>2.621059</td>\n",
       "      <td>42102.336102</td>\n",
       "    </tr>\n",
       "    <tr>\n",
       "      <th>min</th>\n",
       "      <td>1.000000</td>\n",
       "      <td>16.000000</td>\n",
       "      <td>1.000000</td>\n",
       "      <td>1.000000</td>\n",
       "      <td>10000.000000</td>\n",
       "    </tr>\n",
       "    <tr>\n",
       "      <th>25%</th>\n",
       "      <td>2.000000</td>\n",
       "      <td>50.000000</td>\n",
       "      <td>2.000000</td>\n",
       "      <td>4.000000</td>\n",
       "      <td>35000.000000</td>\n",
       "    </tr>\n",
       "    <tr>\n",
       "      <th>50%</th>\n",
       "      <td>3.000000</td>\n",
       "      <td>66.000000</td>\n",
       "      <td>3.000000</td>\n",
       "      <td>5.000000</td>\n",
       "      <td>46500.000000</td>\n",
       "    </tr>\n",
       "    <tr>\n",
       "      <th>75%</th>\n",
       "      <td>3.000000</td>\n",
       "      <td>85.000000</td>\n",
       "      <td>5.000000</td>\n",
       "      <td>9.000000</td>\n",
       "      <td>67000.000000</td>\n",
       "    </tr>\n",
       "    <tr>\n",
       "      <th>max</th>\n",
       "      <td>10.000000</td>\n",
       "      <td>360.000000</td>\n",
       "      <td>19.000000</td>\n",
       "      <td>25.000000</td>\n",
       "      <td>395000.000000</td>\n",
       "    </tr>\n",
       "  </tbody>\n",
       "</table>\n",
       "</div>"
      ],
      "text/plain": [
       "             rooms         size        level   max_levels          price\n",
       "count  6714.000000  6714.000000  6714.000000  6714.000000    6714.000000\n",
       "mean      2.616324    72.926129     3.710903     6.048853   58597.382633\n",
       "std       1.058237    35.119217     2.256852     2.621059   42102.336102\n",
       "min       1.000000    16.000000     1.000000     1.000000   10000.000000\n",
       "25%       2.000000    50.000000     2.000000     4.000000   35000.000000\n",
       "50%       3.000000    66.000000     3.000000     5.000000   46500.000000\n",
       "75%       3.000000    85.000000     5.000000     9.000000   67000.000000\n",
       "max      10.000000   360.000000    19.000000    25.000000  395000.000000"
      ]
     },
     "execution_count": 52,
     "metadata": {},
     "output_type": "execute_result"
    }
   ],
   "source": [
    "data.describe()"
   ]
  },
  {
   "cell_type": "markdown",
   "id": "da646250",
   "metadata": {},
   "source": [
    "#### Label tayyorlashni har xil statistika usullari bilan ko'rib chiqamiz"
   ]
  },
  {
   "cell_type": "code",
   "execution_count": 67,
   "id": "7f281cd0",
   "metadata": {},
   "outputs": [
    {
     "data": {
      "text/html": [
       "<div>\n",
       "<style scoped>\n",
       "    .dataframe tbody tr th:only-of-type {\n",
       "        vertical-align: middle;\n",
       "    }\n",
       "\n",
       "    .dataframe tbody tr th {\n",
       "        vertical-align: top;\n",
       "    }\n",
       "\n",
       "    .dataframe thead th {\n",
       "        text-align: right;\n",
       "    }\n",
       "</style>\n",
       "<table border=\"1\" class=\"dataframe\">\n",
       "  <thead>\n",
       "    <tr style=\"text-align: right;\">\n",
       "      <th></th>\n",
       "      <th>price</th>\n",
       "      <th>label_d_median</th>\n",
       "      <th>label_d_std</th>\n",
       "      <th>label_d_mean</th>\n",
       "    </tr>\n",
       "    <tr>\n",
       "      <th>district</th>\n",
       "      <th></th>\n",
       "      <th></th>\n",
       "      <th></th>\n",
       "      <th></th>\n",
       "    </tr>\n",
       "  </thead>\n",
       "  <tbody>\n",
       "    <tr>\n",
       "      <th>Бектемирский</th>\n",
       "      <td>29462.500000</td>\n",
       "      <td>0.364286</td>\n",
       "      <td>0.100040</td>\n",
       "      <td>0.313879</td>\n",
       "    </tr>\n",
       "    <tr>\n",
       "      <th>Мирабадский</th>\n",
       "      <td>93865.862717</td>\n",
       "      <td>1.000000</td>\n",
       "      <td>1.000000</td>\n",
       "      <td>1.000000</td>\n",
       "    </tr>\n",
       "    <tr>\n",
       "      <th>Мирзо-Улугбекский</th>\n",
       "      <td>57444.816667</td>\n",
       "      <td>0.590909</td>\n",
       "      <td>0.668288</td>\n",
       "      <td>0.611988</td>\n",
       "    </tr>\n",
       "    <tr>\n",
       "      <th>Олмазорский</th>\n",
       "      <td>51869.048387</td>\n",
       "      <td>0.551948</td>\n",
       "      <td>0.511706</td>\n",
       "      <td>0.552587</td>\n",
       "    </tr>\n",
       "    <tr>\n",
       "      <th>Сергелийский</th>\n",
       "      <td>44140.108108</td>\n",
       "      <td>0.532468</td>\n",
       "      <td>0.305178</td>\n",
       "      <td>0.470247</td>\n",
       "    </tr>\n",
       "    <tr>\n",
       "      <th>Учтепинский</th>\n",
       "      <td>44844.382093</td>\n",
       "      <td>0.545455</td>\n",
       "      <td>0.257413</td>\n",
       "      <td>0.477750</td>\n",
       "    </tr>\n",
       "    <tr>\n",
       "      <th>Чиланзарский</th>\n",
       "      <td>46061.046843</td>\n",
       "      <td>0.506494</td>\n",
       "      <td>0.402724</td>\n",
       "      <td>0.490711</td>\n",
       "    </tr>\n",
       "    <tr>\n",
       "      <th>Шайхантахурский</th>\n",
       "      <td>69063.834808</td>\n",
       "      <td>0.727273</td>\n",
       "      <td>0.675672</td>\n",
       "      <td>0.735772</td>\n",
       "    </tr>\n",
       "    <tr>\n",
       "      <th>Юнусабадский</th>\n",
       "      <td>61876.996292</td>\n",
       "      <td>0.649351</td>\n",
       "      <td>0.699306</td>\n",
       "      <td>0.659207</td>\n",
       "    </tr>\n",
       "    <tr>\n",
       "      <th>Яккасарайский</th>\n",
       "      <td>73013.038182</td>\n",
       "      <td>0.727273</td>\n",
       "      <td>0.813945</td>\n",
       "      <td>0.777844</td>\n",
       "    </tr>\n",
       "    <tr>\n",
       "      <th>Янгихаётский</th>\n",
       "      <td>37192.307692</td>\n",
       "      <td>0.467532</td>\n",
       "      <td>0.174874</td>\n",
       "      <td>0.396228</td>\n",
       "    </tr>\n",
       "    <tr>\n",
       "      <th>Яшнободский</th>\n",
       "      <td>50749.641723</td>\n",
       "      <td>0.519481</td>\n",
       "      <td>0.612251</td>\n",
       "      <td>0.540661</td>\n",
       "    </tr>\n",
       "  </tbody>\n",
       "</table>\n",
       "</div>"
      ],
      "text/plain": [
       "                          price  label_d_median  label_d_std  label_d_mean\n",
       "district                                                                  \n",
       "Бектемирский       29462.500000        0.364286     0.100040      0.313879\n",
       "Мирабадский        93865.862717        1.000000     1.000000      1.000000\n",
       "Мирзо-Улугбекский  57444.816667        0.590909     0.668288      0.611988\n",
       "Олмазорский        51869.048387        0.551948     0.511706      0.552587\n",
       "Сергелийский       44140.108108        0.532468     0.305178      0.470247\n",
       "Учтепинский        44844.382093        0.545455     0.257413      0.477750\n",
       "Чиланзарский       46061.046843        0.506494     0.402724      0.490711\n",
       "Шайхантахурский    69063.834808        0.727273     0.675672      0.735772\n",
       "Юнусабадский       61876.996292        0.649351     0.699306      0.659207\n",
       "Яккасарайский      73013.038182        0.727273     0.813945      0.777844\n",
       "Янгихаётский       37192.307692        0.467532     0.174874      0.396228\n",
       "Яшнободский        50749.641723        0.519481     0.612251      0.540661"
      ]
     },
     "execution_count": 67,
     "metadata": {},
     "output_type": "execute_result"
    }
   ],
   "source": [
    "label_district = pd.DataFrame(data.groupby('district')['price'].mean())\n",
    "label_district['label_d_median'] = data.groupby('district')['price'].median().values\n",
    "label_district['label_d_std'] = data.groupby('district')['price'].std().values\n",
    "\n",
    "label_district['label_d_mean'] = label_district['price']/max(label_district['price'])\n",
    "label_district['label_d_median'] = label_district['label_d_median']/max(label_district['label_d_median'])\n",
    "label_district['label_d_std'] = label_district['label_d_std']/max(label_district['label_d_std'])\n",
    "\n",
    "label_district"
   ]
  },
  {
   "cell_type": "code",
   "execution_count": 68,
   "id": "cb82479c",
   "metadata": {},
   "outputs": [
    {
     "data": {
      "text/plain": [
       "price             0\n",
       "label_d_median    0\n",
       "label_d_std       0\n",
       "label_d_mean      0\n",
       "dtype: int64"
      ]
     },
     "execution_count": 68,
     "metadata": {},
     "output_type": "execute_result"
    }
   ],
   "source": [
    "label_district.isnull().sum()"
   ]
  },
  {
   "cell_type": "markdown",
   "id": "1a5666bb",
   "metadata": {},
   "source": [
    "## Preprocessing"
   ]
  },
  {
   "cell_type": "code",
   "execution_count": 69,
   "id": "919c0e6e",
   "metadata": {},
   "outputs": [
    {
     "data": {
      "text/html": [
       "<div>\n",
       "<style scoped>\n",
       "    .dataframe tbody tr th:only-of-type {\n",
       "        vertical-align: middle;\n",
       "    }\n",
       "\n",
       "    .dataframe tbody tr th {\n",
       "        vertical-align: top;\n",
       "    }\n",
       "\n",
       "    .dataframe thead th {\n",
       "        text-align: right;\n",
       "    }\n",
       "</style>\n",
       "<table border=\"1\" class=\"dataframe\">\n",
       "  <thead>\n",
       "    <tr style=\"text-align: right;\">\n",
       "      <th></th>\n",
       "      <th>district</th>\n",
       "      <th>rooms</th>\n",
       "      <th>size</th>\n",
       "      <th>level</th>\n",
       "      <th>max_levels</th>\n",
       "      <th>price</th>\n",
       "      <th>label_d_median</th>\n",
       "      <th>label_d_std</th>\n",
       "      <th>label_d_mean</th>\n",
       "    </tr>\n",
       "  </thead>\n",
       "  <tbody>\n",
       "    <tr>\n",
       "      <th>0</th>\n",
       "      <td>Юнусабадский</td>\n",
       "      <td>3</td>\n",
       "      <td>57.0</td>\n",
       "      <td>4</td>\n",
       "      <td>4</td>\n",
       "      <td>52000.0</td>\n",
       "      <td>0.649351</td>\n",
       "      <td>0.699306</td>\n",
       "      <td>0.659207</td>\n",
       "    </tr>\n",
       "    <tr>\n",
       "      <th>1</th>\n",
       "      <td>Яккасарайский</td>\n",
       "      <td>2</td>\n",
       "      <td>52.0</td>\n",
       "      <td>4</td>\n",
       "      <td>5</td>\n",
       "      <td>56000.0</td>\n",
       "      <td>0.727273</td>\n",
       "      <td>0.813945</td>\n",
       "      <td>0.777844</td>\n",
       "    </tr>\n",
       "    <tr>\n",
       "      <th>2</th>\n",
       "      <td>Чиланзарский</td>\n",
       "      <td>2</td>\n",
       "      <td>42.0</td>\n",
       "      <td>4</td>\n",
       "      <td>4</td>\n",
       "      <td>37000.0</td>\n",
       "      <td>0.506494</td>\n",
       "      <td>0.402724</td>\n",
       "      <td>0.490711</td>\n",
       "    </tr>\n",
       "    <tr>\n",
       "      <th>3</th>\n",
       "      <td>Чиланзарский</td>\n",
       "      <td>3</td>\n",
       "      <td>65.0</td>\n",
       "      <td>1</td>\n",
       "      <td>4</td>\n",
       "      <td>49500.0</td>\n",
       "      <td>0.506494</td>\n",
       "      <td>0.402724</td>\n",
       "      <td>0.490711</td>\n",
       "    </tr>\n",
       "    <tr>\n",
       "      <th>4</th>\n",
       "      <td>Чиланзарский</td>\n",
       "      <td>3</td>\n",
       "      <td>70.0</td>\n",
       "      <td>3</td>\n",
       "      <td>5</td>\n",
       "      <td>55000.0</td>\n",
       "      <td>0.506494</td>\n",
       "      <td>0.402724</td>\n",
       "      <td>0.490711</td>\n",
       "    </tr>\n",
       "    <tr>\n",
       "      <th>...</th>\n",
       "      <td>...</td>\n",
       "      <td>...</td>\n",
       "      <td>...</td>\n",
       "      <td>...</td>\n",
       "      <td>...</td>\n",
       "      <td>...</td>\n",
       "      <td>...</td>\n",
       "      <td>...</td>\n",
       "      <td>...</td>\n",
       "    </tr>\n",
       "    <tr>\n",
       "      <th>7560</th>\n",
       "      <td>Яшнободский</td>\n",
       "      <td>1</td>\n",
       "      <td>38.0</td>\n",
       "      <td>5</td>\n",
       "      <td>5</td>\n",
       "      <td>24500.0</td>\n",
       "      <td>0.519481</td>\n",
       "      <td>0.612251</td>\n",
       "      <td>0.540661</td>\n",
       "    </tr>\n",
       "    <tr>\n",
       "      <th>7561</th>\n",
       "      <td>Яшнободский</td>\n",
       "      <td>2</td>\n",
       "      <td>49.0</td>\n",
       "      <td>1</td>\n",
       "      <td>4</td>\n",
       "      <td>32000.0</td>\n",
       "      <td>0.519481</td>\n",
       "      <td>0.612251</td>\n",
       "      <td>0.540661</td>\n",
       "    </tr>\n",
       "    <tr>\n",
       "      <th>7562</th>\n",
       "      <td>Шайхантахурский</td>\n",
       "      <td>2</td>\n",
       "      <td>64.0</td>\n",
       "      <td>3</td>\n",
       "      <td>9</td>\n",
       "      <td>40000.0</td>\n",
       "      <td>0.727273</td>\n",
       "      <td>0.675672</td>\n",
       "      <td>0.735772</td>\n",
       "    </tr>\n",
       "    <tr>\n",
       "      <th>7563</th>\n",
       "      <td>Мирзо-Улугбекский</td>\n",
       "      <td>1</td>\n",
       "      <td>18.0</td>\n",
       "      <td>1</td>\n",
       "      <td>4</td>\n",
       "      <td>11000.0</td>\n",
       "      <td>0.590909</td>\n",
       "      <td>0.668288</td>\n",
       "      <td>0.611988</td>\n",
       "    </tr>\n",
       "    <tr>\n",
       "      <th>7564</th>\n",
       "      <td>Чиланзарский</td>\n",
       "      <td>1</td>\n",
       "      <td>30.0</td>\n",
       "      <td>2</td>\n",
       "      <td>4</td>\n",
       "      <td>22914.0</td>\n",
       "      <td>0.506494</td>\n",
       "      <td>0.402724</td>\n",
       "      <td>0.490711</td>\n",
       "    </tr>\n",
       "  </tbody>\n",
       "</table>\n",
       "<p>6714 rows × 9 columns</p>\n",
       "</div>"
      ],
      "text/plain": [
       "               district  rooms  size  level  max_levels    price  \\\n",
       "0          Юнусабадский      3  57.0      4           4  52000.0   \n",
       "1         Яккасарайский      2  52.0      4           5  56000.0   \n",
       "2          Чиланзарский      2  42.0      4           4  37000.0   \n",
       "3          Чиланзарский      3  65.0      1           4  49500.0   \n",
       "4          Чиланзарский      3  70.0      3           5  55000.0   \n",
       "...                 ...    ...   ...    ...         ...      ...   \n",
       "7560        Яшнободский      1  38.0      5           5  24500.0   \n",
       "7561        Яшнободский      2  49.0      1           4  32000.0   \n",
       "7562    Шайхантахурский      2  64.0      3           9  40000.0   \n",
       "7563  Мирзо-Улугбекский      1  18.0      1           4  11000.0   \n",
       "7564       Чиланзарский      1  30.0      2           4  22914.0   \n",
       "\n",
       "      label_d_median  label_d_std  label_d_mean  \n",
       "0           0.649351     0.699306      0.659207  \n",
       "1           0.727273     0.813945      0.777844  \n",
       "2           0.506494     0.402724      0.490711  \n",
       "3           0.506494     0.402724      0.490711  \n",
       "4           0.506494     0.402724      0.490711  \n",
       "...              ...          ...           ...  \n",
       "7560        0.519481     0.612251      0.540661  \n",
       "7561        0.519481     0.612251      0.540661  \n",
       "7562        0.727273     0.675672      0.735772  \n",
       "7563        0.590909     0.668288      0.611988  \n",
       "7564        0.506494     0.402724      0.490711  \n",
       "\n",
       "[6714 rows x 9 columns]"
      ]
     },
     "execution_count": 69,
     "metadata": {},
     "output_type": "execute_result"
    }
   ],
   "source": [
    "data['label_d_median'] = [label_district.loc[i]['label_d_median'] for i in data['district']]\n",
    "data['label_d_std'] = [label_district.loc[i]['label_d_std'] for i in data['district']]\n",
    "data['label_d_mean'] = [label_district.loc[i]['label_d_mean'] for i in data['district']]\n",
    "data"
   ]
  },
  {
   "cell_type": "markdown",
   "id": "e39a062d",
   "metadata": {},
   "source": [
    "## Normalization "
   ]
  },
  {
   "cell_type": "markdown",
   "id": "66a6389a",
   "metadata": {},
   "source": [
    "MinMaxScaler va StandartScaler bilan normalizatsiya qilmoqchi edim nan va manfiy qiymatlar ko'payib ketdi.Shuning uchun qo'lda normalizatsiya qildim"
   ]
  },
  {
   "cell_type": "code",
   "execution_count": 70,
   "id": "d25787e0",
   "metadata": {},
   "outputs": [
    {
     "data": {
      "text/html": [
       "<div>\n",
       "<style scoped>\n",
       "    .dataframe tbody tr th:only-of-type {\n",
       "        vertical-align: middle;\n",
       "    }\n",
       "\n",
       "    .dataframe tbody tr th {\n",
       "        vertical-align: top;\n",
       "    }\n",
       "\n",
       "    .dataframe thead th {\n",
       "        text-align: right;\n",
       "    }\n",
       "</style>\n",
       "<table border=\"1\" class=\"dataframe\">\n",
       "  <thead>\n",
       "    <tr style=\"text-align: right;\">\n",
       "      <th></th>\n",
       "      <th>rooms</th>\n",
       "      <th>size</th>\n",
       "      <th>level</th>\n",
       "      <th>max_levels</th>\n",
       "      <th>price</th>\n",
       "      <th>label_d_median</th>\n",
       "      <th>label_d_std</th>\n",
       "      <th>label_d_mean</th>\n",
       "    </tr>\n",
       "  </thead>\n",
       "  <tbody>\n",
       "    <tr>\n",
       "      <th>0</th>\n",
       "      <td>0.3</td>\n",
       "      <td>0.158333</td>\n",
       "      <td>0.210526</td>\n",
       "      <td>0.16</td>\n",
       "      <td>0.131646</td>\n",
       "      <td>0.649351</td>\n",
       "      <td>0.699306</td>\n",
       "      <td>0.659207</td>\n",
       "    </tr>\n",
       "    <tr>\n",
       "      <th>1</th>\n",
       "      <td>0.2</td>\n",
       "      <td>0.144444</td>\n",
       "      <td>0.210526</td>\n",
       "      <td>0.20</td>\n",
       "      <td>0.141772</td>\n",
       "      <td>0.727273</td>\n",
       "      <td>0.813945</td>\n",
       "      <td>0.777844</td>\n",
       "    </tr>\n",
       "    <tr>\n",
       "      <th>2</th>\n",
       "      <td>0.2</td>\n",
       "      <td>0.116667</td>\n",
       "      <td>0.210526</td>\n",
       "      <td>0.16</td>\n",
       "      <td>0.093671</td>\n",
       "      <td>0.506494</td>\n",
       "      <td>0.402724</td>\n",
       "      <td>0.490711</td>\n",
       "    </tr>\n",
       "    <tr>\n",
       "      <th>3</th>\n",
       "      <td>0.3</td>\n",
       "      <td>0.180556</td>\n",
       "      <td>0.052632</td>\n",
       "      <td>0.16</td>\n",
       "      <td>0.125316</td>\n",
       "      <td>0.506494</td>\n",
       "      <td>0.402724</td>\n",
       "      <td>0.490711</td>\n",
       "    </tr>\n",
       "    <tr>\n",
       "      <th>4</th>\n",
       "      <td>0.3</td>\n",
       "      <td>0.194444</td>\n",
       "      <td>0.157895</td>\n",
       "      <td>0.20</td>\n",
       "      <td>0.139241</td>\n",
       "      <td>0.506494</td>\n",
       "      <td>0.402724</td>\n",
       "      <td>0.490711</td>\n",
       "    </tr>\n",
       "    <tr>\n",
       "      <th>...</th>\n",
       "      <td>...</td>\n",
       "      <td>...</td>\n",
       "      <td>...</td>\n",
       "      <td>...</td>\n",
       "      <td>...</td>\n",
       "      <td>...</td>\n",
       "      <td>...</td>\n",
       "      <td>...</td>\n",
       "    </tr>\n",
       "    <tr>\n",
       "      <th>7560</th>\n",
       "      <td>0.1</td>\n",
       "      <td>0.105556</td>\n",
       "      <td>0.263158</td>\n",
       "      <td>0.20</td>\n",
       "      <td>0.062025</td>\n",
       "      <td>0.519481</td>\n",
       "      <td>0.612251</td>\n",
       "      <td>0.540661</td>\n",
       "    </tr>\n",
       "    <tr>\n",
       "      <th>7561</th>\n",
       "      <td>0.2</td>\n",
       "      <td>0.136111</td>\n",
       "      <td>0.052632</td>\n",
       "      <td>0.16</td>\n",
       "      <td>0.081013</td>\n",
       "      <td>0.519481</td>\n",
       "      <td>0.612251</td>\n",
       "      <td>0.540661</td>\n",
       "    </tr>\n",
       "    <tr>\n",
       "      <th>7562</th>\n",
       "      <td>0.2</td>\n",
       "      <td>0.177778</td>\n",
       "      <td>0.157895</td>\n",
       "      <td>0.36</td>\n",
       "      <td>0.101266</td>\n",
       "      <td>0.727273</td>\n",
       "      <td>0.675672</td>\n",
       "      <td>0.735772</td>\n",
       "    </tr>\n",
       "    <tr>\n",
       "      <th>7563</th>\n",
       "      <td>0.1</td>\n",
       "      <td>0.050000</td>\n",
       "      <td>0.052632</td>\n",
       "      <td>0.16</td>\n",
       "      <td>0.027848</td>\n",
       "      <td>0.590909</td>\n",
       "      <td>0.668288</td>\n",
       "      <td>0.611988</td>\n",
       "    </tr>\n",
       "    <tr>\n",
       "      <th>7564</th>\n",
       "      <td>0.1</td>\n",
       "      <td>0.083333</td>\n",
       "      <td>0.105263</td>\n",
       "      <td>0.16</td>\n",
       "      <td>0.058010</td>\n",
       "      <td>0.506494</td>\n",
       "      <td>0.402724</td>\n",
       "      <td>0.490711</td>\n",
       "    </tr>\n",
       "  </tbody>\n",
       "</table>\n",
       "<p>6714 rows × 8 columns</p>\n",
       "</div>"
      ],
      "text/plain": [
       "      rooms      size     level  max_levels     price  label_d_median  \\\n",
       "0       0.3  0.158333  0.210526        0.16  0.131646        0.649351   \n",
       "1       0.2  0.144444  0.210526        0.20  0.141772        0.727273   \n",
       "2       0.2  0.116667  0.210526        0.16  0.093671        0.506494   \n",
       "3       0.3  0.180556  0.052632        0.16  0.125316        0.506494   \n",
       "4       0.3  0.194444  0.157895        0.20  0.139241        0.506494   \n",
       "...     ...       ...       ...         ...       ...             ...   \n",
       "7560    0.1  0.105556  0.263158        0.20  0.062025        0.519481   \n",
       "7561    0.2  0.136111  0.052632        0.16  0.081013        0.519481   \n",
       "7562    0.2  0.177778  0.157895        0.36  0.101266        0.727273   \n",
       "7563    0.1  0.050000  0.052632        0.16  0.027848        0.590909   \n",
       "7564    0.1  0.083333  0.105263        0.16  0.058010        0.506494   \n",
       "\n",
       "      label_d_std  label_d_mean  \n",
       "0        0.699306      0.659207  \n",
       "1        0.813945      0.777844  \n",
       "2        0.402724      0.490711  \n",
       "3        0.402724      0.490711  \n",
       "4        0.402724      0.490711  \n",
       "...           ...           ...  \n",
       "7560     0.612251      0.540661  \n",
       "7561     0.612251      0.540661  \n",
       "7562     0.675672      0.735772  \n",
       "7563     0.668288      0.611988  \n",
       "7564     0.402724      0.490711  \n",
       "\n",
       "[6714 rows x 8 columns]"
      ]
     },
     "execution_count": 70,
     "metadata": {},
     "output_type": "execute_result"
    }
   ],
   "source": [
    "data = data.drop('district',axis=1)\n",
    "data['rooms'] /= max(data['rooms'])\n",
    "data['size'] /= max(data['size'])\n",
    "data['level'] /= max(data['level'])\n",
    "data['max_levels'] /= max(data['max_levels'])\n",
    "data['price'] /= max(data['price'])\n",
    "data"
   ]
  },
  {
   "cell_type": "code",
   "execution_count": 144,
   "id": "dcc35b0f",
   "metadata": {},
   "outputs": [
    {
     "data": {
      "image/png": "[encoded data removed]",
      "text/plain": [
       "<Figure size 864x432 with 2 Axes>"
      ]
     },
     "metadata": {
      "needs_background": "light"
     },
     "output_type": "display_data"
    }
   ],
   "source": [
    "plt.figure(figsize=(12,6))\n",
    "sns.heatmap(data.corr(),annot=True,square=True,linewidths=1)\n",
    "plt.show()"
   ]
  },
  {
   "cell_type": "markdown",
   "id": "049f6e69",
   "metadata": {},
   "source": [
    "## Modeling with Regressions"
   ]
  },
  {
   "cell_type": "code",
   "execution_count": 72,
   "id": "9f8ef671",
   "metadata": {},
   "outputs": [],
   "source": [
    "x_train,x_test,y_train,y_test = train_test_split(x,y,test_size=0.2,random_state=42)"
   ]
  },
  {
   "cell_type": "code",
   "execution_count": 160,
   "id": "25dfbbfa",
   "metadata": {},
   "outputs": [],
   "source": [
    "#linear regression\n",
    "from sklearn.linear_model import LinearRegression"
   ]
  },
  {
   "cell_type": "code",
   "execution_count": 161,
   "id": "57718ab5",
   "metadata": {},
   "outputs": [
    {
     "data": {
      "text/plain": [
       "LinearRegression()"
      ]
     },
     "execution_count": 161,
     "metadata": {},
     "output_type": "execute_result"
    }
   ],
   "source": [
    "lr_model = LinearRegression()\n",
    "lr_model.fit(x_train,y_train)"
   ]
  },
  {
   "cell_type": "code",
   "execution_count": 165,
   "id": "ba328ec1",
   "metadata": {},
   "outputs": [
    {
     "data": {
      "text/plain": [
       "0.6259433628515417"
      ]
     },
     "execution_count": 165,
     "metadata": {},
     "output_type": "execute_result"
    }
   ],
   "source": [
    "lr_score = lr_model.score(x_test,y_test)\n",
    "lr_score"
   ]
  },
  {
   "cell_type": "code",
   "execution_count": 80,
   "id": "491c5c66",
   "metadata": {},
   "outputs": [],
   "source": [
    "#K-NN\n",
    "from sklearn.neighbors import KNeighborsRegressor"
   ]
  },
  {
   "cell_type": "code",
   "execution_count": 166,
   "id": "2275c8c0",
   "metadata": {},
   "outputs": [
    {
     "data": {
      "text/plain": [
       "KNeighborsRegressor()"
      ]
     },
     "execution_count": 166,
     "metadata": {},
     "output_type": "execute_result"
    }
   ],
   "source": [
    "knn_model = KNeighborsRegressor(n_neighbors=5)\n",
    "knn_model.fit(x_train,y_train)"
   ]
  },
  {
   "cell_type": "code",
   "execution_count": 167,
   "id": "ee6e5b04",
   "metadata": {},
   "outputs": [
    {
     "data": {
      "text/plain": [
       "0.632746323904761"
      ]
     },
     "execution_count": 167,
     "metadata": {},
     "output_type": "execute_result"
    }
   ],
   "source": [
    "knn_score = knn_model.score(x_test,y_test)\n",
    "knn_score"
   ]
  },
  {
   "cell_type": "code",
   "execution_count": 98,
   "id": "85e84ded",
   "metadata": {},
   "outputs": [],
   "source": [
    "#SVM\n",
    "from sklearn.svm import SVR"
   ]
  },
  {
   "cell_type": "code",
   "execution_count": 99,
   "id": "6ce8ea9c",
   "metadata": {},
   "outputs": [
    {
     "data": {
      "text/plain": [
       "SVR()"
      ]
     },
     "execution_count": 99,
     "metadata": {},
     "output_type": "execute_result"
    }
   ],
   "source": [
    "svr_model = SVR()\n",
    "svr_model.fit(x_train,y_train)"
   ]
  },
  {
   "cell_type": "code",
   "execution_count": 100,
   "id": "0478024e",
   "metadata": {},
   "outputs": [
    {
     "data": {
      "text/plain": [
       "0.5640653496795723"
      ]
     },
     "execution_count": 100,
     "metadata": {},
     "output_type": "execute_result"
    }
   ],
   "source": [
    "svr_score = svr_model.score(x_test,y_test)\n",
    "svr_score"
   ]
  },
  {
   "cell_type": "code",
   "execution_count": 104,
   "id": "040b82bf",
   "metadata": {},
   "outputs": [],
   "source": [
    "#Decision Tree\n",
    "from sklearn.tree import DecisionTreeRegressor"
   ]
  },
  {
   "cell_type": "code",
   "execution_count": 105,
   "id": "f122e282",
   "metadata": {},
   "outputs": [
    {
     "data": {
      "text/plain": [
       "DecisionTreeRegressor()"
      ]
     },
     "execution_count": 105,
     "metadata": {},
     "output_type": "execute_result"
    }
   ],
   "source": [
    "dt_model = DecisionTreeRegressor()\n",
    "dt_model.fit(x_train,y_train)"
   ]
  },
  {
   "cell_type": "code",
   "execution_count": 106,
   "id": "9e83d819",
   "metadata": {},
   "outputs": [
    {
     "data": {
      "text/plain": [
       "0.5416046154350678"
      ]
     },
     "execution_count": 106,
     "metadata": {},
     "output_type": "execute_result"
    }
   ],
   "source": [
    "dt_score = dt_model.score(x_test,y_test)\n",
    "dt_score"
   ]
  },
  {
   "cell_type": "code",
   "execution_count": 109,
   "id": "2acbaedc",
   "metadata": {},
   "outputs": [],
   "source": [
    "#Gradient Boosting\n",
    "from sklearn.ensemble import GradientBoostingRegressor"
   ]
  },
  {
   "cell_type": "code",
   "execution_count": 110,
   "id": "d89a0b16",
   "metadata": {},
   "outputs": [
    {
     "data": {
      "text/plain": [
       "GradientBoostingRegressor()"
      ]
     },
     "execution_count": 110,
     "metadata": {},
     "output_type": "execute_result"
    }
   ],
   "source": [
    "gb_model = GradientBoostingRegressor()\n",
    "gb_model.fit(x_train,y_train)"
   ]
  },
  {
   "cell_type": "code",
   "execution_count": 111,
   "id": "3d67fc3c",
   "metadata": {},
   "outputs": [
    {
     "data": {
      "text/plain": [
       "0.6992107395505525"
      ]
     },
     "execution_count": 111,
     "metadata": {},
     "output_type": "execute_result"
    }
   ],
   "source": [
    "gb_score = gb_model.score(x_test,y_test)\n",
    "gb_score"
   ]
  },
  {
   "cell_type": "code",
   "execution_count": 113,
   "id": "0b5dda76",
   "metadata": {},
   "outputs": [],
   "source": [
    "#Ada Boosting\n",
    "from sklearn.ensemble import AdaBoostRegressor"
   ]
  },
  {
   "cell_type": "code",
   "execution_count": 114,
   "id": "5cee01a4",
   "metadata": {},
   "outputs": [
    {
     "data": {
      "text/plain": [
       "AdaBoostRegressor()"
      ]
     },
     "execution_count": 114,
     "metadata": {},
     "output_type": "execute_result"
    }
   ],
   "source": [
    "ada_model = AdaBoostRegressor()\n",
    "ada_model.fit(x_train,y_train)"
   ]
  },
  {
   "cell_type": "code",
   "execution_count": 115,
   "id": "946e7d7c",
   "metadata": {},
   "outputs": [
    {
     "data": {
      "text/plain": [
       "0.5087476155243515"
      ]
     },
     "execution_count": 115,
     "metadata": {},
     "output_type": "execute_result"
    }
   ],
   "source": [
    "ada_score = ada_model.score(x_test,y_test)\n",
    "ada_score"
   ]
  },
  {
   "cell_type": "code",
   "execution_count": 116,
   "id": "1fc1132e",
   "metadata": {},
   "outputs": [],
   "source": [
    "#Extra Tree\n",
    "from sklearn.ensemble import ExtraTreesRegressor"
   ]
  },
  {
   "cell_type": "code",
   "execution_count": 117,
   "id": "9e7fa8f1",
   "metadata": {},
   "outputs": [
    {
     "data": {
      "text/plain": [
       "ExtraTreesRegressor()"
      ]
     },
     "execution_count": 117,
     "metadata": {},
     "output_type": "execute_result"
    }
   ],
   "source": [
    "et_model = ExtraTreesRegressor()\n",
    "et_model.fit(x_train,y_train)"
   ]
  },
  {
   "cell_type": "code",
   "execution_count": 118,
   "id": "a66ad00f",
   "metadata": {},
   "outputs": [
    {
     "data": {
      "text/plain": [
       "0.6893112725196762"
      ]
     },
     "execution_count": 118,
     "metadata": {},
     "output_type": "execute_result"
    }
   ],
   "source": [
    "et_score = et_model.score(x_test,y_test)\n",
    "et_score"
   ]
  },
  {
   "cell_type": "code",
   "execution_count": 119,
   "id": "878ef2d8",
   "metadata": {},
   "outputs": [],
   "source": [
    "#Random Forest\n",
    "from sklearn.ensemble import RandomForestRegressor"
   ]
  },
  {
   "cell_type": "code",
   "execution_count": 120,
   "id": "986de13c",
   "metadata": {},
   "outputs": [
    {
     "data": {
      "text/plain": [
       "RandomForestRegressor()"
      ]
     },
     "execution_count": 120,
     "metadata": {},
     "output_type": "execute_result"
    }
   ],
   "source": [
    "rf_model = RandomForestRegressor()\n",
    "rf_model.fit(x_train,y_train)"
   ]
  },
  {
   "cell_type": "code",
   "execution_count": 121,
   "id": "8d58b0c3",
   "metadata": {},
   "outputs": [
    {
     "data": {
      "text/plain": [
       "0.7055395903876522"
      ]
     },
     "execution_count": 121,
     "metadata": {},
     "output_type": "execute_result"
    }
   ],
   "source": [
    "rf_score = rf_model.score(x_test,y_test)\n",
    "rf_score"
   ]
  },
  {
   "cell_type": "markdown",
   "id": "bb323996",
   "metadata": {},
   "source": [
    "## Solishtirish"
   ]
  },
  {
   "cell_type": "code",
   "execution_count": 145,
   "id": "95a55528",
   "metadata": {},
   "outputs": [
    {
     "data": {
      "text/plain": [
       "Ada_B         0.508748\n",
       "Decision_T    0.541605\n",
       "SVM           0.564065\n",
       "Linear_R      0.625943\n",
       "K-NN          0.632746\n",
       "Extra_T       0.689311\n",
       "Gradient_B    0.699211\n",
       "Random_F      0.705540\n",
       "dtype: float64"
      ]
     },
     "execution_count": 145,
     "metadata": {},
     "output_type": "execute_result"
    }
   ],
   "source": [
    "comparison_df = pd.Series({\n",
    "    'Linear_R' : lr_score,\n",
    "    'K-NN' : knn_score,\n",
    "    'SVM' : svr_score,\n",
    "    'Decision_T' : dt_score,\n",
    "    'Gradient_B' : gb_score,\n",
    "    'Ada_B' : ada_score,\n",
    "    'Extra_T' : et_score,\n",
    "    'Random_F' : rf_score\n",
    "})\n",
    "comparison_df = comparison_df.sort_values()\n",
    "comparison_df"
   ]
  },
  {
   "cell_type": "code",
   "execution_count": 146,
   "id": "dc61cfbd",
   "metadata": {},
   "outputs": [
    {
     "data": {
      "image/png": "[encoded data removed]",
      "text/plain": [
       "<Figure size 864x504 with 1 Axes>"
      ]
     },
     "metadata": {
      "needs_background": "light"
     },
     "output_type": "display_data"
    }
   ],
   "source": [
    "plt.figure(figsize=(12,7))\n",
    "sns.barplot(x=comparison_df.index,y=comparison_df.values*100)\n",
    "plt.grid(linestyle='--')\n",
    "plt.show()"
   ]
  },
  {
   "cell_type": "markdown",
   "id": "57704895",
   "metadata": {},
   "source": [
    "# Xulosa"
   ]
  },
  {
   "cell_type": "markdown",
   "id": "8e2c0e27",
   "metadata": {},
   "source": [
    "Qo'lda label yasash unchalik foyda bermadi.Multiple linear regression algoritmlaridan foydalanganda eng katta accuracy Random Forest Regression da bo'ldi(acc=70%).Modelni single size va price bo'yicha linear regression bilan qilsak accuracy yaxshiroq bo'larkan.Chunki single linear regressionda datasetni burchak bo'yicha normalizatsiya qilsa bo'ladi.Lekin datasetni qanday ma'lumotlardan foydalanganimizni bilmay qolamiz.Ma'lumotning o'chib ketishi tga ning qiymatiga bog'liq(tga=data['price']/data['size]).Bu usuldan foydalanib modelni qo'ldan kelgancha chiziqli qilsa bo'ladi.Lekin dataset chiziqli bo'lmasa juda ko'p ma'lumotlar o'chib ketadi.Predict qilganda kiritilgan ma'lumotning tangensi train qilgandagi burchak bo'yicha normalizatsiya qilingan datasetga to'g'ri kelmasa xatolik katta bo'lishi mumkin"
   ]
  }
 ],
 "metadata": {
  "hide_input": false,
  "kernelspec": {
   "display_name": "Python 3 (ipykernel)",
   "language": "python",
   "name": "python3"
  },
  "language_info": {
   "codemirror_mode": {
    "name": "ipython",
    "version": 3
   },
   "file_extension": ".py",
   "mimetype": "text/x-python",
   "name": "python",
   "nbconvert_exporter": "python",
   "pygments_lexer": "ipython3",
   "version": "3.9.10"
  },
  "varInspector": {
   "cols": {
    "lenName": 16,
    "lenType": 16,
    "lenVar": 40
   },
   "kernels_config": {
    "python": {
     "delete_cmd_postfix": "",
     "delete_cmd_prefix": "del ",
     "library": "var_list.py",
     "varRefreshCmd": "print(var_dic_list())"
    },
    "r": {
     "delete_cmd_postfix": ") ",
     "delete_cmd_prefix": "rm(",
     "library": "var_list.r",
     "varRefreshCmd": "cat(var_dic_list()) "
    }
   },
   "types_to_exclude": [
    "module",
    "function",
    "builtin_function_or_method",
    "instance",
    "_Feature"
   ],
   "window_display": false
  }
 },
 "nbformat": 4,
 "nbformat_minor": 5
}
